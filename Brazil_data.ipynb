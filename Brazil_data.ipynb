{
 "cells": [
  {
   "cell_type": "markdown",
   "id": "7b4babff",
   "metadata": {},
   "source": [
    "# Brazil data\n",
    "\n",
    "Working with a Brazilian dataset composed of several economic indicators"
   ]
  },
  {
   "cell_type": "code",
   "execution_count": 202,
   "id": "a42ec99e",
   "metadata": {},
   "outputs": [],
   "source": [
    "import pandas as pd\n",
    "import numpy as np\n",
    "import seaborn as sns; sns.set()\n",
    "import matplotlib.pyplot as plt\n",
    "\n",
    "import matplotlib\n",
    "matplotlib.rcParams['figure.figsize'] = (14,4)"
   ]
  },
  {
   "cell_type": "markdown",
   "id": "3c3e7741",
   "metadata": {},
   "source": [
    "##### Getting the data using the Brazil's central bank API "
   ]
  },
  {
   "cell_type": "code",
   "execution_count": 203,
   "id": "57902b34",
   "metadata": {},
   "outputs": [],
   "source": [
    "url = 'https://api.bcb.gov.br/dados/serie/bcdata.sgs.189/dados?formato=json'"
   ]
  },
  {
   "cell_type": "code",
   "execution_count": 204,
   "id": "f6045848",
   "metadata": {},
   "outputs": [],
   "source": [
    "df = pd.read_json(url)"
   ]
  },
  {
   "cell_type": "code",
   "execution_count": 205,
   "id": "4745e5cd",
   "metadata": {},
   "outputs": [
    {
     "data": {
      "text/html": [
       "<div>\n",
       "<style scoped>\n",
       "    .dataframe tbody tr th:only-of-type {\n",
       "        vertical-align: middle;\n",
       "    }\n",
       "\n",
       "    .dataframe tbody tr th {\n",
       "        vertical-align: top;\n",
       "    }\n",
       "\n",
       "    .dataframe thead th {\n",
       "        text-align: right;\n",
       "    }\n",
       "</style>\n",
       "<table border=\"1\" class=\"dataframe\">\n",
       "  <thead>\n",
       "    <tr style=\"text-align: right;\">\n",
       "      <th></th>\n",
       "      <th>data</th>\n",
       "      <th>valor</th>\n",
       "    </tr>\n",
       "  </thead>\n",
       "  <tbody>\n",
       "    <tr>\n",
       "      <th>0</th>\n",
       "      <td>01/06/1989</td>\n",
       "      <td>19.68</td>\n",
       "    </tr>\n",
       "    <tr>\n",
       "      <th>1</th>\n",
       "      <td>01/07/1989</td>\n",
       "      <td>35.90</td>\n",
       "    </tr>\n",
       "    <tr>\n",
       "      <th>2</th>\n",
       "      <td>01/08/1989</td>\n",
       "      <td>36.92</td>\n",
       "    </tr>\n",
       "    <tr>\n",
       "      <th>3</th>\n",
       "      <td>01/09/1989</td>\n",
       "      <td>39.92</td>\n",
       "    </tr>\n",
       "    <tr>\n",
       "      <th>4</th>\n",
       "      <td>01/10/1989</td>\n",
       "      <td>40.64</td>\n",
       "    </tr>\n",
       "  </tbody>\n",
       "</table>\n",
       "</div>"
      ],
      "text/plain": [
       "         data  valor\n",
       "0  01/06/1989  19.68\n",
       "1  01/07/1989  35.90\n",
       "2  01/08/1989  36.92\n",
       "3  01/09/1989  39.92\n",
       "4  01/10/1989  40.64"
      ]
     },
     "execution_count": 205,
     "metadata": {},
     "output_type": "execute_result"
    }
   ],
   "source": [
    "df.head()"
   ]
  },
  {
   "cell_type": "markdown",
   "id": "4abe363a",
   "metadata": {},
   "source": [
    "Format the date"
   ]
  },
  {
   "cell_type": "code",
   "execution_count": 206,
   "id": "17fe4d83",
   "metadata": {},
   "outputs": [],
   "source": [
    "df['data'] = pd.to_datetime(df['data'], format='%d/%m/%Y')"
   ]
  },
  {
   "cell_type": "code",
   "execution_count": 207,
   "id": "ed793b84",
   "metadata": {},
   "outputs": [
    {
     "data": {
      "text/html": [
       "<div>\n",
       "<style scoped>\n",
       "    .dataframe tbody tr th:only-of-type {\n",
       "        vertical-align: middle;\n",
       "    }\n",
       "\n",
       "    .dataframe tbody tr th {\n",
       "        vertical-align: top;\n",
       "    }\n",
       "\n",
       "    .dataframe thead th {\n",
       "        text-align: right;\n",
       "    }\n",
       "</style>\n",
       "<table border=\"1\" class=\"dataframe\">\n",
       "  <thead>\n",
       "    <tr style=\"text-align: right;\">\n",
       "      <th></th>\n",
       "      <th>data</th>\n",
       "      <th>valor</th>\n",
       "    </tr>\n",
       "  </thead>\n",
       "  <tbody>\n",
       "    <tr>\n",
       "      <th>0</th>\n",
       "      <td>1989-06-01</td>\n",
       "      <td>19.68</td>\n",
       "    </tr>\n",
       "    <tr>\n",
       "      <th>1</th>\n",
       "      <td>1989-07-01</td>\n",
       "      <td>35.90</td>\n",
       "    </tr>\n",
       "    <tr>\n",
       "      <th>2</th>\n",
       "      <td>1989-08-01</td>\n",
       "      <td>36.92</td>\n",
       "    </tr>\n",
       "    <tr>\n",
       "      <th>3</th>\n",
       "      <td>1989-09-01</td>\n",
       "      <td>39.92</td>\n",
       "    </tr>\n",
       "    <tr>\n",
       "      <th>4</th>\n",
       "      <td>1989-10-01</td>\n",
       "      <td>40.64</td>\n",
       "    </tr>\n",
       "  </tbody>\n",
       "</table>\n",
       "</div>"
      ],
      "text/plain": [
       "        data  valor\n",
       "0 1989-06-01  19.68\n",
       "1 1989-07-01  35.90\n",
       "2 1989-08-01  36.92\n",
       "3 1989-09-01  39.92\n",
       "4 1989-10-01  40.64"
      ]
     },
     "execution_count": 207,
     "metadata": {},
     "output_type": "execute_result"
    }
   ],
   "source": [
    "df.head()"
   ]
  },
  {
   "cell_type": "code",
   "execution_count": 208,
   "id": "9d541839",
   "metadata": {
    "scrolled": true
   },
   "outputs": [
    {
     "data": {
      "image/png": "[encoded data removed]",
      "text/plain": [
       "<Figure size 1008x288 with 1 Axes>"
      ]
     },
     "metadata": {},
     "output_type": "display_data"
    }
   ],
   "source": [
    "plt.plot(df['data'], df['valor'], color = 'red', label = 'IGPM')\n",
    "plt.title('IGPM')\n",
    "plt.xlabel('data')\n",
    "plt.ylabel('valor do IGPM')\n",
    "plt.legend()\n",
    "plt.show()"
   ]
  },
  {
   "cell_type": "code",
   "execution_count": 209,
   "id": "94889096",
   "metadata": {},
   "outputs": [
    {
     "data": {
      "text/plain": [
       "count    407.000000\n",
       "mean       4.855455\n",
       "std       11.506445\n",
       "min       -1.100000\n",
       "25%        0.265000\n",
       "50%        0.740000\n",
       "75%        1.735000\n",
       "max       83.950000\n",
       "Name: valor, dtype: float64"
      ]
     },
     "execution_count": 209,
     "metadata": {},
     "output_type": "execute_result"
    }
   ],
   "source": [
    "df.valor.describe()"
   ]
  },
  {
   "cell_type": "code",
   "execution_count": 210,
   "id": "1b3c6f16",
   "metadata": {},
   "outputs": [
    {
     "name": "stdout",
     "output_type": "stream",
     "text": [
      "<class 'pandas.core.frame.DataFrame'>\n",
      "RangeIndex: 407 entries, 0 to 406\n",
      "Data columns (total 2 columns):\n",
      " #   Column  Non-Null Count  Dtype         \n",
      "---  ------  --------------  -----         \n",
      " 0   data    407 non-null    datetime64[ns]\n",
      " 1   valor   407 non-null    float64       \n",
      "dtypes: datetime64[ns](1), float64(1)\n",
      "memory usage: 6.5 KB\n"
     ]
    }
   ],
   "source": [
    "df.info()"
   ]
  },
  {
   "cell_type": "code",
   "execution_count": 211,
   "id": "4cfe81ed",
   "metadata": {},
   "outputs": [],
   "source": [
    "df = df.rename(columns={'valor': 'IGPM'})"
   ]
  },
  {
   "cell_type": "code",
   "execution_count": 212,
   "id": "8a4527fe",
   "metadata": {},
   "outputs": [
    {
     "data": {
      "text/html": [
       "<div>\n",
       "<style scoped>\n",
       "    .dataframe tbody tr th:only-of-type {\n",
       "        vertical-align: middle;\n",
       "    }\n",
       "\n",
       "    .dataframe tbody tr th {\n",
       "        vertical-align: top;\n",
       "    }\n",
       "\n",
       "    .dataframe thead th {\n",
       "        text-align: right;\n",
       "    }\n",
       "</style>\n",
       "<table border=\"1\" class=\"dataframe\">\n",
       "  <thead>\n",
       "    <tr style=\"text-align: right;\">\n",
       "      <th></th>\n",
       "      <th>data</th>\n",
       "      <th>IGPM</th>\n",
       "    </tr>\n",
       "  </thead>\n",
       "  <tbody>\n",
       "    <tr>\n",
       "      <th>0</th>\n",
       "      <td>1989-06-01</td>\n",
       "      <td>19.68</td>\n",
       "    </tr>\n",
       "    <tr>\n",
       "      <th>1</th>\n",
       "      <td>1989-07-01</td>\n",
       "      <td>35.90</td>\n",
       "    </tr>\n",
       "    <tr>\n",
       "      <th>2</th>\n",
       "      <td>1989-08-01</td>\n",
       "      <td>36.92</td>\n",
       "    </tr>\n",
       "    <tr>\n",
       "      <th>3</th>\n",
       "      <td>1989-09-01</td>\n",
       "      <td>39.92</td>\n",
       "    </tr>\n",
       "    <tr>\n",
       "      <th>4</th>\n",
       "      <td>1989-10-01</td>\n",
       "      <td>40.64</td>\n",
       "    </tr>\n",
       "  </tbody>\n",
       "</table>\n",
       "</div>"
      ],
      "text/plain": [
       "        data   IGPM\n",
       "0 1989-06-01  19.68\n",
       "1 1989-07-01  35.90\n",
       "2 1989-08-01  36.92\n",
       "3 1989-09-01  39.92\n",
       "4 1989-10-01  40.64"
      ]
     },
     "execution_count": 212,
     "metadata": {},
     "output_type": "execute_result"
    }
   ],
   "source": [
    "df.head()"
   ]
  },
  {
   "cell_type": "code",
   "execution_count": 213,
   "id": "2ae9a229",
   "metadata": {},
   "outputs": [],
   "source": [
    "# filter the data from the dataset above\n",
    "import datetime\n",
    "start_date = datetime.datetime(2013, 1, 1)\n",
    "end_date = datetime.datetime(2023, 3, 1)\n",
    "df = df[(df['data'] >= start_date) & (df['data'] <= end_date)]"
   ]
  },
  {
   "cell_type": "code",
   "execution_count": 214,
   "id": "ba0b5430",
   "metadata": {},
   "outputs": [
    {
     "data": {
      "text/html": [
       "<div>\n",
       "<style scoped>\n",
       "    .dataframe tbody tr th:only-of-type {\n",
       "        vertical-align: middle;\n",
       "    }\n",
       "\n",
       "    .dataframe tbody tr th {\n",
       "        vertical-align: top;\n",
       "    }\n",
       "\n",
       "    .dataframe thead th {\n",
       "        text-align: right;\n",
       "    }\n",
       "</style>\n",
       "<table border=\"1\" class=\"dataframe\">\n",
       "  <thead>\n",
       "    <tr style=\"text-align: right;\">\n",
       "      <th></th>\n",
       "      <th>data</th>\n",
       "      <th>IGPM</th>\n",
       "    </tr>\n",
       "  </thead>\n",
       "  <tbody>\n",
       "    <tr>\n",
       "      <th>283</th>\n",
       "      <td>2013-01-01</td>\n",
       "      <td>0.34</td>\n",
       "    </tr>\n",
       "    <tr>\n",
       "      <th>284</th>\n",
       "      <td>2013-02-01</td>\n",
       "      <td>0.29</td>\n",
       "    </tr>\n",
       "    <tr>\n",
       "      <th>285</th>\n",
       "      <td>2013-03-01</td>\n",
       "      <td>0.21</td>\n",
       "    </tr>\n",
       "    <tr>\n",
       "      <th>286</th>\n",
       "      <td>2013-04-01</td>\n",
       "      <td>0.15</td>\n",
       "    </tr>\n",
       "    <tr>\n",
       "      <th>287</th>\n",
       "      <td>2013-05-01</td>\n",
       "      <td>0.00</td>\n",
       "    </tr>\n",
       "  </tbody>\n",
       "</table>\n",
       "</div>"
      ],
      "text/plain": [
       "          data  IGPM\n",
       "283 2013-01-01  0.34\n",
       "284 2013-02-01  0.29\n",
       "285 2013-03-01  0.21\n",
       "286 2013-04-01  0.15\n",
       "287 2013-05-01  0.00"
      ]
     },
     "execution_count": 214,
     "metadata": {},
     "output_type": "execute_result"
    }
   ],
   "source": [
    "df.head()"
   ]
  },
  {
   "cell_type": "code",
   "execution_count": 215,
   "id": "ce6e7afb",
   "metadata": {},
   "outputs": [
    {
     "data": {
      "text/plain": [
       "data    0\n",
       "IGPM    0\n",
       "dtype: int64"
      ]
     },
     "execution_count": 215,
     "metadata": {},
     "output_type": "execute_result"
    }
   ],
   "source": [
    "# Finding missing values\n",
    "df.isna().sum().sort_values(ascending=False)"
   ]
  },
  {
   "cell_type": "code",
   "execution_count": 216,
   "id": "7f57ec71",
   "metadata": {},
   "outputs": [
    {
     "data": {
      "text/plain": [
       "<bound method DataFrame.info of           data  IGPM\n",
       "283 2013-01-01  0.34\n",
       "284 2013-02-01  0.29\n",
       "285 2013-03-01  0.21\n",
       "286 2013-04-01  0.15\n",
       "287 2013-05-01  0.00\n",
       "..         ...   ...\n",
       "401 2022-11-01 -0.56\n",
       "402 2022-12-01  0.45\n",
       "403 2023-01-01  0.21\n",
       "404 2023-02-01 -0.06\n",
       "405 2023-03-01  0.05\n",
       "\n",
       "[123 rows x 2 columns]>"
      ]
     },
     "execution_count": 216,
     "metadata": {},
     "output_type": "execute_result"
    }
   ],
   "source": [
    "df.info"
   ]
  },
  {
   "cell_type": "markdown",
   "id": "2fde0e0f",
   "metadata": {},
   "source": [
    "A high standard deviation means high variability data. This is due to period of hyperinflation in Brazil, which ended in 1994.\n",
    "This data will be filtered in order to match 'Spread', 'Default', and 'Credit cost'. "
   ]
  },
  {
   "cell_type": "markdown",
   "id": "8b57214e",
   "metadata": {},
   "source": [
    "#### Downloand the Spread data"
   ]
  },
  {
   "cell_type": "code",
   "execution_count": 217,
   "id": "6946c6ad",
   "metadata": {},
   "outputs": [],
   "source": [
    "url_1 = 'https://api.bcb.gov.br/dados/serie/bcdata.sgs.20783/dados?formato=json'\n",
    "\n",
    "df_Spread = pd.read_json(url_1)"
   ]
  },
  {
   "cell_type": "code",
   "execution_count": 218,
   "id": "9d96c674",
   "metadata": {},
   "outputs": [
    {
     "data": {
      "text/html": [
       "<div>\n",
       "<style scoped>\n",
       "    .dataframe tbody tr th:only-of-type {\n",
       "        vertical-align: middle;\n",
       "    }\n",
       "\n",
       "    .dataframe tbody tr th {\n",
       "        vertical-align: top;\n",
       "    }\n",
       "\n",
       "    .dataframe thead th {\n",
       "        text-align: right;\n",
       "    }\n",
       "</style>\n",
       "<table border=\"1\" class=\"dataframe\">\n",
       "  <thead>\n",
       "    <tr style=\"text-align: right;\">\n",
       "      <th></th>\n",
       "      <th>data</th>\n",
       "      <th>valor</th>\n",
       "    </tr>\n",
       "  </thead>\n",
       "  <tbody>\n",
       "    <tr>\n",
       "      <th>0</th>\n",
       "      <td>01/03/2011</td>\n",
       "      <td>17.65</td>\n",
       "    </tr>\n",
       "    <tr>\n",
       "      <th>1</th>\n",
       "      <td>01/04/2011</td>\n",
       "      <td>18.22</td>\n",
       "    </tr>\n",
       "    <tr>\n",
       "      <th>2</th>\n",
       "      <td>01/05/2011</td>\n",
       "      <td>18.14</td>\n",
       "    </tr>\n",
       "    <tr>\n",
       "      <th>3</th>\n",
       "      <td>01/06/2011</td>\n",
       "      <td>17.95</td>\n",
       "    </tr>\n",
       "    <tr>\n",
       "      <th>4</th>\n",
       "      <td>01/07/2011</td>\n",
       "      <td>17.94</td>\n",
       "    </tr>\n",
       "  </tbody>\n",
       "</table>\n",
       "</div>"
      ],
      "text/plain": [
       "         data  valor\n",
       "0  01/03/2011  17.65\n",
       "1  01/04/2011  18.22\n",
       "2  01/05/2011  18.14\n",
       "3  01/06/2011  17.95\n",
       "4  01/07/2011  17.94"
      ]
     },
     "execution_count": 218,
     "metadata": {},
     "output_type": "execute_result"
    }
   ],
   "source": [
    "df_Spread.head()"
   ]
  },
  {
   "cell_type": "code",
   "execution_count": 219,
   "id": "cf682d3c",
   "metadata": {},
   "outputs": [],
   "source": [
    "df_Spread['data'] = pd.to_datetime(df_Spread['data'], format='%d/%m/%Y')"
   ]
  },
  {
   "cell_type": "code",
   "execution_count": 220,
   "id": "0d2b28e7",
   "metadata": {},
   "outputs": [
    {
     "data": {
      "text/html": [
       "<div>\n",
       "<style scoped>\n",
       "    .dataframe tbody tr th:only-of-type {\n",
       "        vertical-align: middle;\n",
       "    }\n",
       "\n",
       "    .dataframe tbody tr th {\n",
       "        vertical-align: top;\n",
       "    }\n",
       "\n",
       "    .dataframe thead th {\n",
       "        text-align: right;\n",
       "    }\n",
       "</style>\n",
       "<table border=\"1\" class=\"dataframe\">\n",
       "  <thead>\n",
       "    <tr style=\"text-align: right;\">\n",
       "      <th></th>\n",
       "      <th>data</th>\n",
       "      <th>valor</th>\n",
       "    </tr>\n",
       "  </thead>\n",
       "  <tbody>\n",
       "    <tr>\n",
       "      <th>0</th>\n",
       "      <td>2011-03-01</td>\n",
       "      <td>17.65</td>\n",
       "    </tr>\n",
       "    <tr>\n",
       "      <th>1</th>\n",
       "      <td>2011-04-01</td>\n",
       "      <td>18.22</td>\n",
       "    </tr>\n",
       "    <tr>\n",
       "      <th>2</th>\n",
       "      <td>2011-05-01</td>\n",
       "      <td>18.14</td>\n",
       "    </tr>\n",
       "    <tr>\n",
       "      <th>3</th>\n",
       "      <td>2011-06-01</td>\n",
       "      <td>17.95</td>\n",
       "    </tr>\n",
       "    <tr>\n",
       "      <th>4</th>\n",
       "      <td>2011-07-01</td>\n",
       "      <td>17.94</td>\n",
       "    </tr>\n",
       "  </tbody>\n",
       "</table>\n",
       "</div>"
      ],
      "text/plain": [
       "        data  valor\n",
       "0 2011-03-01  17.65\n",
       "1 2011-04-01  18.22\n",
       "2 2011-05-01  18.14\n",
       "3 2011-06-01  17.95\n",
       "4 2011-07-01  17.94"
      ]
     },
     "execution_count": 220,
     "metadata": {},
     "output_type": "execute_result"
    }
   ],
   "source": [
    "df_Spread.head()"
   ]
  },
  {
   "cell_type": "code",
   "execution_count": 221,
   "id": "c65b7cb7",
   "metadata": {},
   "outputs": [
    {
     "data": {
      "image/png": "[encoded data removed]",
      "text/plain": [
       "<Figure size 1008x288 with 1 Axes>"
      ]
     },
     "metadata": {},
     "output_type": "display_data"
    }
   ],
   "source": [
    "plt.plot(df_Spread['data'], df_Spread['valor'], color = 'red', label = 'Spread')\n",
    "plt.title('Credit Spread')\n",
    "plt.xlabel('data')\n",
    "plt.ylabel('Credit Spread')\n",
    "plt.legend()\n",
    "plt.show()"
   ]
  },
  {
   "cell_type": "code",
   "execution_count": 222,
   "id": "c4d231f7",
   "metadata": {},
   "outputs": [
    {
     "data": {
      "text/html": [
       "<div>\n",
       "<style scoped>\n",
       "    .dataframe tbody tr th:only-of-type {\n",
       "        vertical-align: middle;\n",
       "    }\n",
       "\n",
       "    .dataframe tbody tr th {\n",
       "        vertical-align: top;\n",
       "    }\n",
       "\n",
       "    .dataframe thead th {\n",
       "        text-align: right;\n",
       "    }\n",
       "</style>\n",
       "<table border=\"1\" class=\"dataframe\">\n",
       "  <thead>\n",
       "    <tr style=\"text-align: right;\">\n",
       "      <th></th>\n",
       "      <th>valor</th>\n",
       "    </tr>\n",
       "  </thead>\n",
       "  <tbody>\n",
       "    <tr>\n",
       "      <th>count</th>\n",
       "      <td>145.000000</td>\n",
       "    </tr>\n",
       "    <tr>\n",
       "      <th>mean</th>\n",
       "      <td>17.639517</td>\n",
       "    </tr>\n",
       "    <tr>\n",
       "      <th>std</th>\n",
       "      <td>2.643494</td>\n",
       "    </tr>\n",
       "    <tr>\n",
       "      <th>min</th>\n",
       "      <td>13.280000</td>\n",
       "    </tr>\n",
       "    <tr>\n",
       "      <th>25%</th>\n",
       "      <td>15.190000</td>\n",
       "    </tr>\n",
       "    <tr>\n",
       "      <th>50%</th>\n",
       "      <td>17.750000</td>\n",
       "    </tr>\n",
       "    <tr>\n",
       "      <th>75%</th>\n",
       "      <td>19.150000</td>\n",
       "    </tr>\n",
       "    <tr>\n",
       "      <th>max</th>\n",
       "      <td>23.610000</td>\n",
       "    </tr>\n",
       "  </tbody>\n",
       "</table>\n",
       "</div>"
      ],
      "text/plain": [
       "            valor\n",
       "count  145.000000\n",
       "mean    17.639517\n",
       "std      2.643494\n",
       "min     13.280000\n",
       "25%     15.190000\n",
       "50%     17.750000\n",
       "75%     19.150000\n",
       "max     23.610000"
      ]
     },
     "execution_count": 222,
     "metadata": {},
     "output_type": "execute_result"
    }
   ],
   "source": [
    "df_Spread.describe()"
   ]
  },
  {
   "cell_type": "code",
   "execution_count": 223,
   "id": "6cb5372a",
   "metadata": {},
   "outputs": [
    {
     "name": "stdout",
     "output_type": "stream",
     "text": [
      "<class 'pandas.core.frame.DataFrame'>\n",
      "RangeIndex: 145 entries, 0 to 144\n",
      "Data columns (total 2 columns):\n",
      " #   Column  Non-Null Count  Dtype         \n",
      "---  ------  --------------  -----         \n",
      " 0   data    145 non-null    datetime64[ns]\n",
      " 1   valor   145 non-null    float64       \n",
      "dtypes: datetime64[ns](1), float64(1)\n",
      "memory usage: 2.4 KB\n"
     ]
    }
   ],
   "source": [
    "df_Spread.info()"
   ]
  },
  {
   "cell_type": "code",
   "execution_count": 224,
   "id": "ad7b2257",
   "metadata": {},
   "outputs": [],
   "source": [
    "df_Spread = df_Spread.rename(columns={'valor': 'Credit_Spread'})"
   ]
  },
  {
   "cell_type": "code",
   "execution_count": 225,
   "id": "c5b4e95e",
   "metadata": {},
   "outputs": [
    {
     "data": {
      "text/html": [
       "<div>\n",
       "<style scoped>\n",
       "    .dataframe tbody tr th:only-of-type {\n",
       "        vertical-align: middle;\n",
       "    }\n",
       "\n",
       "    .dataframe tbody tr th {\n",
       "        vertical-align: top;\n",
       "    }\n",
       "\n",
       "    .dataframe thead th {\n",
       "        text-align: right;\n",
       "    }\n",
       "</style>\n",
       "<table border=\"1\" class=\"dataframe\">\n",
       "  <thead>\n",
       "    <tr style=\"text-align: right;\">\n",
       "      <th></th>\n",
       "      <th>data</th>\n",
       "      <th>Credit_Spread</th>\n",
       "    </tr>\n",
       "  </thead>\n",
       "  <tbody>\n",
       "    <tr>\n",
       "      <th>0</th>\n",
       "      <td>2011-03-01</td>\n",
       "      <td>17.65</td>\n",
       "    </tr>\n",
       "    <tr>\n",
       "      <th>1</th>\n",
       "      <td>2011-04-01</td>\n",
       "      <td>18.22</td>\n",
       "    </tr>\n",
       "    <tr>\n",
       "      <th>2</th>\n",
       "      <td>2011-05-01</td>\n",
       "      <td>18.14</td>\n",
       "    </tr>\n",
       "    <tr>\n",
       "      <th>3</th>\n",
       "      <td>2011-06-01</td>\n",
       "      <td>17.95</td>\n",
       "    </tr>\n",
       "    <tr>\n",
       "      <th>4</th>\n",
       "      <td>2011-07-01</td>\n",
       "      <td>17.94</td>\n",
       "    </tr>\n",
       "  </tbody>\n",
       "</table>\n",
       "</div>"
      ],
      "text/plain": [
       "        data  Credit_Spread\n",
       "0 2011-03-01          17.65\n",
       "1 2011-04-01          18.22\n",
       "2 2011-05-01          18.14\n",
       "3 2011-06-01          17.95\n",
       "4 2011-07-01          17.94"
      ]
     },
     "execution_count": 225,
     "metadata": {},
     "output_type": "execute_result"
    }
   ],
   "source": [
    "df_Spread.head()"
   ]
  },
  {
   "cell_type": "code",
   "execution_count": 226,
   "id": "2ee7ca62",
   "metadata": {},
   "outputs": [],
   "source": [
    "# filter the data from the dataset above\n",
    "start_date = datetime.datetime(2013, 1, 1)\n",
    "end_date = datetime.datetime(2023, 3, 1)\n",
    "df_Spread = df_Spread[(df_Spread['data'] >= start_date) & (df_Spread['data'] <= end_date)]"
   ]
  },
  {
   "cell_type": "code",
   "execution_count": 227,
   "id": "fbc450bf",
   "metadata": {},
   "outputs": [
    {
     "data": {
      "text/html": [
       "<div>\n",
       "<style scoped>\n",
       "    .dataframe tbody tr th:only-of-type {\n",
       "        vertical-align: middle;\n",
       "    }\n",
       "\n",
       "    .dataframe tbody tr th {\n",
       "        vertical-align: top;\n",
       "    }\n",
       "\n",
       "    .dataframe thead th {\n",
       "        text-align: right;\n",
       "    }\n",
       "</style>\n",
       "<table border=\"1\" class=\"dataframe\">\n",
       "  <thead>\n",
       "    <tr style=\"text-align: right;\">\n",
       "      <th></th>\n",
       "      <th>data</th>\n",
       "      <th>Credit_Spread</th>\n",
       "    </tr>\n",
       "  </thead>\n",
       "  <tbody>\n",
       "    <tr>\n",
       "      <th>22</th>\n",
       "      <td>2013-01-01</td>\n",
       "      <td>14.47</td>\n",
       "    </tr>\n",
       "    <tr>\n",
       "      <th>23</th>\n",
       "      <td>2013-02-01</td>\n",
       "      <td>14.59</td>\n",
       "    </tr>\n",
       "    <tr>\n",
       "      <th>24</th>\n",
       "      <td>2013-03-01</td>\n",
       "      <td>14.21</td>\n",
       "    </tr>\n",
       "    <tr>\n",
       "      <th>25</th>\n",
       "      <td>2013-04-01</td>\n",
       "      <td>14.11</td>\n",
       "    </tr>\n",
       "    <tr>\n",
       "      <th>26</th>\n",
       "      <td>2013-05-01</td>\n",
       "      <td>13.78</td>\n",
       "    </tr>\n",
       "  </tbody>\n",
       "</table>\n",
       "</div>"
      ],
      "text/plain": [
       "         data  Credit_Spread\n",
       "22 2013-01-01          14.47\n",
       "23 2013-02-01          14.59\n",
       "24 2013-03-01          14.21\n",
       "25 2013-04-01          14.11\n",
       "26 2013-05-01          13.78"
      ]
     },
     "execution_count": 227,
     "metadata": {},
     "output_type": "execute_result"
    }
   ],
   "source": [
    "df_Spread.head()"
   ]
  },
  {
   "cell_type": "code",
   "execution_count": 228,
   "id": "6ea0f83f",
   "metadata": {},
   "outputs": [
    {
     "data": {
      "text/plain": [
       "data             0\n",
       "Credit_Spread    0\n",
       "dtype: int64"
      ]
     },
     "execution_count": 228,
     "metadata": {},
     "output_type": "execute_result"
    }
   ],
   "source": [
    "# Finding missing values\n",
    "df_Spread.isna().sum().sort_values(ascending=False)"
   ]
  },
  {
   "cell_type": "code",
   "execution_count": 229,
   "id": "f3d86a88",
   "metadata": {},
   "outputs": [
    {
     "data": {
      "text/plain": [
       "<bound method DataFrame.info of           data  Credit_Spread\n",
       "22  2013-01-01          14.47\n",
       "23  2013-02-01          14.59\n",
       "24  2013-03-01          14.21\n",
       "25  2013-04-01          14.11\n",
       "26  2013-05-01          13.78\n",
       "..         ...            ...\n",
       "140 2022-11-01          20.35\n",
       "141 2022-12-01          19.34\n",
       "142 2023-01-01          20.57\n",
       "143 2023-02-01          20.92\n",
       "144 2023-03-01          20.94\n",
       "\n",
       "[123 rows x 2 columns]>"
      ]
     },
     "execution_count": 229,
     "metadata": {},
     "output_type": "execute_result"
    }
   ],
   "source": [
    "df_Spread.info"
   ]
  },
  {
   "cell_type": "markdown",
   "id": "f711323a",
   "metadata": {},
   "source": [
    "#### download the default rate"
   ]
  },
  {
   "cell_type": "code",
   "execution_count": 230,
   "id": "d63c8444",
   "metadata": {},
   "outputs": [],
   "source": [
    "url_2 = 'https://api.bcb.gov.br/dados/serie/bcdata.sgs.21082/dados?formato=json'\n",
    "\n",
    "df_def = pd.read_json(url_2)"
   ]
  },
  {
   "cell_type": "code",
   "execution_count": 231,
   "id": "fa189a71",
   "metadata": {},
   "outputs": [
    {
     "data": {
      "text/html": [
       "<div>\n",
       "<style scoped>\n",
       "    .dataframe tbody tr th:only-of-type {\n",
       "        vertical-align: middle;\n",
       "    }\n",
       "\n",
       "    .dataframe tbody tr th {\n",
       "        vertical-align: top;\n",
       "    }\n",
       "\n",
       "    .dataframe thead th {\n",
       "        text-align: right;\n",
       "    }\n",
       "</style>\n",
       "<table border=\"1\" class=\"dataframe\">\n",
       "  <thead>\n",
       "    <tr style=\"text-align: right;\">\n",
       "      <th></th>\n",
       "      <th>data</th>\n",
       "      <th>valor</th>\n",
       "    </tr>\n",
       "  </thead>\n",
       "  <tbody>\n",
       "    <tr>\n",
       "      <th>0</th>\n",
       "      <td>01/03/2011</td>\n",
       "      <td>3.17</td>\n",
       "    </tr>\n",
       "    <tr>\n",
       "      <th>1</th>\n",
       "      <td>01/04/2011</td>\n",
       "      <td>3.24</td>\n",
       "    </tr>\n",
       "    <tr>\n",
       "      <th>2</th>\n",
       "      <td>01/05/2011</td>\n",
       "      <td>3.37</td>\n",
       "    </tr>\n",
       "    <tr>\n",
       "      <th>3</th>\n",
       "      <td>01/06/2011</td>\n",
       "      <td>3.32</td>\n",
       "    </tr>\n",
       "    <tr>\n",
       "      <th>4</th>\n",
       "      <td>01/07/2011</td>\n",
       "      <td>3.42</td>\n",
       "    </tr>\n",
       "  </tbody>\n",
       "</table>\n",
       "</div>"
      ],
      "text/plain": [
       "         data  valor\n",
       "0  01/03/2011   3.17\n",
       "1  01/04/2011   3.24\n",
       "2  01/05/2011   3.37\n",
       "3  01/06/2011   3.32\n",
       "4  01/07/2011   3.42"
      ]
     },
     "execution_count": 231,
     "metadata": {},
     "output_type": "execute_result"
    }
   ],
   "source": [
    "df_def.head()"
   ]
  },
  {
   "cell_type": "code",
   "execution_count": 232,
   "id": "56e3c857",
   "metadata": {},
   "outputs": [],
   "source": [
    "df_def['data'] = pd.to_datetime(df_def['data'], format='%d/%m/%Y')"
   ]
  },
  {
   "cell_type": "code",
   "execution_count": 233,
   "id": "24222aa8",
   "metadata": {},
   "outputs": [
    {
     "data": {
      "text/html": [
       "<div>\n",
       "<style scoped>\n",
       "    .dataframe tbody tr th:only-of-type {\n",
       "        vertical-align: middle;\n",
       "    }\n",
       "\n",
       "    .dataframe tbody tr th {\n",
       "        vertical-align: top;\n",
       "    }\n",
       "\n",
       "    .dataframe thead th {\n",
       "        text-align: right;\n",
       "    }\n",
       "</style>\n",
       "<table border=\"1\" class=\"dataframe\">\n",
       "  <thead>\n",
       "    <tr style=\"text-align: right;\">\n",
       "      <th></th>\n",
       "      <th>data</th>\n",
       "      <th>valor</th>\n",
       "    </tr>\n",
       "  </thead>\n",
       "  <tbody>\n",
       "    <tr>\n",
       "      <th>0</th>\n",
       "      <td>2011-03-01</td>\n",
       "      <td>3.17</td>\n",
       "    </tr>\n",
       "    <tr>\n",
       "      <th>1</th>\n",
       "      <td>2011-04-01</td>\n",
       "      <td>3.24</td>\n",
       "    </tr>\n",
       "    <tr>\n",
       "      <th>2</th>\n",
       "      <td>2011-05-01</td>\n",
       "      <td>3.37</td>\n",
       "    </tr>\n",
       "    <tr>\n",
       "      <th>3</th>\n",
       "      <td>2011-06-01</td>\n",
       "      <td>3.32</td>\n",
       "    </tr>\n",
       "    <tr>\n",
       "      <th>4</th>\n",
       "      <td>2011-07-01</td>\n",
       "      <td>3.42</td>\n",
       "    </tr>\n",
       "  </tbody>\n",
       "</table>\n",
       "</div>"
      ],
      "text/plain": [
       "        data  valor\n",
       "0 2011-03-01   3.17\n",
       "1 2011-04-01   3.24\n",
       "2 2011-05-01   3.37\n",
       "3 2011-06-01   3.32\n",
       "4 2011-07-01   3.42"
      ]
     },
     "execution_count": 233,
     "metadata": {},
     "output_type": "execute_result"
    }
   ],
   "source": [
    "df_def.head()"
   ]
  },
  {
   "cell_type": "code",
   "execution_count": 234,
   "id": "2b4f3d05",
   "metadata": {},
   "outputs": [
    {
     "data": {
      "image/png": "[encoded data removed]",
      "text/plain": [
       "<Figure size 1008x288 with 1 Axes>"
      ]
     },
     "metadata": {},
     "output_type": "display_data"
    }
   ],
   "source": [
    "plt.plot(df_def['data'], df_def['valor'], color = 'red', label = 'Default')\n",
    "plt.title('Credit Default rate')\n",
    "plt.xlabel('data')\n",
    "plt.ylabel('Default rate')\n",
    "plt.legend()\n",
    "plt.show()"
   ]
  },
  {
   "cell_type": "code",
   "execution_count": 235,
   "id": "e751771d",
   "metadata": {},
   "outputs": [
    {
     "data": {
      "text/html": [
       "<div>\n",
       "<style scoped>\n",
       "    .dataframe tbody tr th:only-of-type {\n",
       "        vertical-align: middle;\n",
       "    }\n",
       "\n",
       "    .dataframe tbody tr th {\n",
       "        vertical-align: top;\n",
       "    }\n",
       "\n",
       "    .dataframe thead th {\n",
       "        text-align: right;\n",
       "    }\n",
       "</style>\n",
       "<table border=\"1\" class=\"dataframe\">\n",
       "  <thead>\n",
       "    <tr style=\"text-align: right;\">\n",
       "      <th></th>\n",
       "      <th>valor</th>\n",
       "    </tr>\n",
       "  </thead>\n",
       "  <tbody>\n",
       "    <tr>\n",
       "      <th>count</th>\n",
       "      <td>145.000000</td>\n",
       "    </tr>\n",
       "    <tr>\n",
       "      <th>mean</th>\n",
       "      <td>3.131931</td>\n",
       "    </tr>\n",
       "    <tr>\n",
       "      <th>std</th>\n",
       "      <td>0.454797</td>\n",
       "    </tr>\n",
       "    <tr>\n",
       "      <th>min</th>\n",
       "      <td>2.120000</td>\n",
       "    </tr>\n",
       "    <tr>\n",
       "      <th>25%</th>\n",
       "      <td>2.880000</td>\n",
       "    </tr>\n",
       "    <tr>\n",
       "      <th>50%</th>\n",
       "      <td>3.060000</td>\n",
       "    </tr>\n",
       "    <tr>\n",
       "      <th>75%</th>\n",
       "      <td>3.510000</td>\n",
       "    </tr>\n",
       "    <tr>\n",
       "      <th>max</th>\n",
       "      <td>4.040000</td>\n",
       "    </tr>\n",
       "  </tbody>\n",
       "</table>\n",
       "</div>"
      ],
      "text/plain": [
       "            valor\n",
       "count  145.000000\n",
       "mean     3.131931\n",
       "std      0.454797\n",
       "min      2.120000\n",
       "25%      2.880000\n",
       "50%      3.060000\n",
       "75%      3.510000\n",
       "max      4.040000"
      ]
     },
     "execution_count": 235,
     "metadata": {},
     "output_type": "execute_result"
    }
   ],
   "source": [
    "df_def.describe()"
   ]
  },
  {
   "cell_type": "code",
   "execution_count": 236,
   "id": "bb9aa8fa",
   "metadata": {},
   "outputs": [
    {
     "name": "stdout",
     "output_type": "stream",
     "text": [
      "<class 'pandas.core.frame.DataFrame'>\n",
      "RangeIndex: 145 entries, 0 to 144\n",
      "Data columns (total 2 columns):\n",
      " #   Column  Non-Null Count  Dtype         \n",
      "---  ------  --------------  -----         \n",
      " 0   data    145 non-null    datetime64[ns]\n",
      " 1   valor   145 non-null    float64       \n",
      "dtypes: datetime64[ns](1), float64(1)\n",
      "memory usage: 2.4 KB\n"
     ]
    }
   ],
   "source": [
    "df_def.info()"
   ]
  },
  {
   "cell_type": "code",
   "execution_count": 237,
   "id": "8cf21a37",
   "metadata": {},
   "outputs": [],
   "source": [
    "df_def = df_def.rename(columns={'valor': 'Default'})"
   ]
  },
  {
   "cell_type": "code",
   "execution_count": 238,
   "id": "2517df9c",
   "metadata": {},
   "outputs": [
    {
     "data": {
      "text/html": [
       "<div>\n",
       "<style scoped>\n",
       "    .dataframe tbody tr th:only-of-type {\n",
       "        vertical-align: middle;\n",
       "    }\n",
       "\n",
       "    .dataframe tbody tr th {\n",
       "        vertical-align: top;\n",
       "    }\n",
       "\n",
       "    .dataframe thead th {\n",
       "        text-align: right;\n",
       "    }\n",
       "</style>\n",
       "<table border=\"1\" class=\"dataframe\">\n",
       "  <thead>\n",
       "    <tr style=\"text-align: right;\">\n",
       "      <th></th>\n",
       "      <th>data</th>\n",
       "      <th>Default</th>\n",
       "    </tr>\n",
       "  </thead>\n",
       "  <tbody>\n",
       "    <tr>\n",
       "      <th>0</th>\n",
       "      <td>2011-03-01</td>\n",
       "      <td>3.17</td>\n",
       "    </tr>\n",
       "    <tr>\n",
       "      <th>1</th>\n",
       "      <td>2011-04-01</td>\n",
       "      <td>3.24</td>\n",
       "    </tr>\n",
       "    <tr>\n",
       "      <th>2</th>\n",
       "      <td>2011-05-01</td>\n",
       "      <td>3.37</td>\n",
       "    </tr>\n",
       "    <tr>\n",
       "      <th>3</th>\n",
       "      <td>2011-06-01</td>\n",
       "      <td>3.32</td>\n",
       "    </tr>\n",
       "    <tr>\n",
       "      <th>4</th>\n",
       "      <td>2011-07-01</td>\n",
       "      <td>3.42</td>\n",
       "    </tr>\n",
       "  </tbody>\n",
       "</table>\n",
       "</div>"
      ],
      "text/plain": [
       "        data  Default\n",
       "0 2011-03-01     3.17\n",
       "1 2011-04-01     3.24\n",
       "2 2011-05-01     3.37\n",
       "3 2011-06-01     3.32\n",
       "4 2011-07-01     3.42"
      ]
     },
     "execution_count": 238,
     "metadata": {},
     "output_type": "execute_result"
    }
   ],
   "source": [
    "df_def.head()"
   ]
  },
  {
   "cell_type": "code",
   "execution_count": 239,
   "id": "d2f2a32f",
   "metadata": {},
   "outputs": [],
   "source": [
    "# filter the data from the dataset above\n",
    "start_date = datetime.datetime(2013, 1, 1)\n",
    "end_date = datetime.datetime(2023, 3, 1)\n",
    "df_def = df_def[(df_def['data'] >= start_date) & (df_def['data'] <= end_date)]"
   ]
  },
  {
   "cell_type": "code",
   "execution_count": 240,
   "id": "7fb2ad80",
   "metadata": {},
   "outputs": [
    {
     "data": {
      "text/html": [
       "<div>\n",
       "<style scoped>\n",
       "    .dataframe tbody tr th:only-of-type {\n",
       "        vertical-align: middle;\n",
       "    }\n",
       "\n",
       "    .dataframe tbody tr th {\n",
       "        vertical-align: top;\n",
       "    }\n",
       "\n",
       "    .dataframe thead th {\n",
       "        text-align: right;\n",
       "    }\n",
       "</style>\n",
       "<table border=\"1\" class=\"dataframe\">\n",
       "  <thead>\n",
       "    <tr style=\"text-align: right;\">\n",
       "      <th></th>\n",
       "      <th>data</th>\n",
       "      <th>Default</th>\n",
       "    </tr>\n",
       "  </thead>\n",
       "  <tbody>\n",
       "    <tr>\n",
       "      <th>22</th>\n",
       "      <td>2013-01-01</td>\n",
       "      <td>3.54</td>\n",
       "    </tr>\n",
       "    <tr>\n",
       "      <th>23</th>\n",
       "      <td>2013-02-01</td>\n",
       "      <td>3.51</td>\n",
       "    </tr>\n",
       "    <tr>\n",
       "      <th>24</th>\n",
       "      <td>2013-03-01</td>\n",
       "      <td>3.45</td>\n",
       "    </tr>\n",
       "    <tr>\n",
       "      <th>25</th>\n",
       "      <td>2013-04-01</td>\n",
       "      <td>3.47</td>\n",
       "    </tr>\n",
       "    <tr>\n",
       "      <th>26</th>\n",
       "      <td>2013-05-01</td>\n",
       "      <td>3.47</td>\n",
       "    </tr>\n",
       "  </tbody>\n",
       "</table>\n",
       "</div>"
      ],
      "text/plain": [
       "         data  Default\n",
       "22 2013-01-01     3.54\n",
       "23 2013-02-01     3.51\n",
       "24 2013-03-01     3.45\n",
       "25 2013-04-01     3.47\n",
       "26 2013-05-01     3.47"
      ]
     },
     "execution_count": 240,
     "metadata": {},
     "output_type": "execute_result"
    }
   ],
   "source": [
    "df_def.head()"
   ]
  },
  {
   "cell_type": "code",
   "execution_count": 241,
   "id": "f5d548dd",
   "metadata": {},
   "outputs": [
    {
     "data": {
      "text/plain": [
       "data       0\n",
       "Default    0\n",
       "dtype: int64"
      ]
     },
     "execution_count": 241,
     "metadata": {},
     "output_type": "execute_result"
    }
   ],
   "source": [
    "# Finding missing values\n",
    "df_def.isna().sum().sort_values(ascending=False)"
   ]
  },
  {
   "cell_type": "code",
   "execution_count": 242,
   "id": "535f03aa",
   "metadata": {},
   "outputs": [
    {
     "data": {
      "text/plain": [
       "<bound method DataFrame.info of           data  Default\n",
       "22  2013-01-01     3.54\n",
       "23  2013-02-01     3.51\n",
       "24  2013-03-01     3.45\n",
       "25  2013-04-01     3.47\n",
       "26  2013-05-01     3.47\n",
       "..         ...      ...\n",
       "140 2022-11-01     3.01\n",
       "141 2022-12-01     3.01\n",
       "142 2023-01-01     3.18\n",
       "143 2023-02-01     3.30\n",
       "144 2023-03-01     3.33\n",
       "\n",
       "[123 rows x 2 columns]>"
      ]
     },
     "execution_count": 242,
     "metadata": {},
     "output_type": "execute_result"
    }
   ],
   "source": [
    "df_def.info"
   ]
  },
  {
   "cell_type": "markdown",
   "id": "bb38b910",
   "metadata": {},
   "source": [
    "#### download the cost of credit data"
   ]
  },
  {
   "cell_type": "code",
   "execution_count": 243,
   "id": "c641f19f",
   "metadata": {},
   "outputs": [],
   "source": [
    "url_3 = 'https://api.bcb.gov.br/dados/serie/bcdata.sgs.25351/dados?formato=json'\n",
    "\n",
    "df_cost = pd.read_json(url_3)"
   ]
  },
  {
   "cell_type": "code",
   "execution_count": 244,
   "id": "f36c1037",
   "metadata": {},
   "outputs": [
    {
     "data": {
      "text/html": [
       "<div>\n",
       "<style scoped>\n",
       "    .dataframe tbody tr th:only-of-type {\n",
       "        vertical-align: middle;\n",
       "    }\n",
       "\n",
       "    .dataframe tbody tr th {\n",
       "        vertical-align: top;\n",
       "    }\n",
       "\n",
       "    .dataframe thead th {\n",
       "        text-align: right;\n",
       "    }\n",
       "</style>\n",
       "<table border=\"1\" class=\"dataframe\">\n",
       "  <thead>\n",
       "    <tr style=\"text-align: right;\">\n",
       "      <th></th>\n",
       "      <th>data</th>\n",
       "      <th>valor</th>\n",
       "    </tr>\n",
       "  </thead>\n",
       "  <tbody>\n",
       "    <tr>\n",
       "      <th>0</th>\n",
       "      <td>01/01/2013</td>\n",
       "      <td>19.94</td>\n",
       "    </tr>\n",
       "    <tr>\n",
       "      <th>1</th>\n",
       "      <td>01/02/2013</td>\n",
       "      <td>19.98</td>\n",
       "    </tr>\n",
       "    <tr>\n",
       "      <th>2</th>\n",
       "      <td>01/03/2013</td>\n",
       "      <td>19.73</td>\n",
       "    </tr>\n",
       "    <tr>\n",
       "      <th>3</th>\n",
       "      <td>01/04/2013</td>\n",
       "      <td>19.56</td>\n",
       "    </tr>\n",
       "    <tr>\n",
       "      <th>4</th>\n",
       "      <td>01/05/2013</td>\n",
       "      <td>19.29</td>\n",
       "    </tr>\n",
       "  </tbody>\n",
       "</table>\n",
       "</div>"
      ],
      "text/plain": [
       "         data  valor\n",
       "0  01/01/2013  19.94\n",
       "1  01/02/2013  19.98\n",
       "2  01/03/2013  19.73\n",
       "3  01/04/2013  19.56\n",
       "4  01/05/2013  19.29"
      ]
     },
     "execution_count": 244,
     "metadata": {},
     "output_type": "execute_result"
    }
   ],
   "source": [
    "df_cost.head()"
   ]
  },
  {
   "cell_type": "code",
   "execution_count": 245,
   "id": "260bfc9c",
   "metadata": {},
   "outputs": [],
   "source": [
    "df_cost['data'] = pd.to_datetime(df_cost['data'], format='%d/%m/%Y')"
   ]
  },
  {
   "cell_type": "code",
   "execution_count": 246,
   "id": "c07c1962",
   "metadata": {},
   "outputs": [
    {
     "data": {
      "text/html": [
       "<div>\n",
       "<style scoped>\n",
       "    .dataframe tbody tr th:only-of-type {\n",
       "        vertical-align: middle;\n",
       "    }\n",
       "\n",
       "    .dataframe tbody tr th {\n",
       "        vertical-align: top;\n",
       "    }\n",
       "\n",
       "    .dataframe thead th {\n",
       "        text-align: right;\n",
       "    }\n",
       "</style>\n",
       "<table border=\"1\" class=\"dataframe\">\n",
       "  <thead>\n",
       "    <tr style=\"text-align: right;\">\n",
       "      <th></th>\n",
       "      <th>data</th>\n",
       "      <th>valor</th>\n",
       "    </tr>\n",
       "  </thead>\n",
       "  <tbody>\n",
       "    <tr>\n",
       "      <th>0</th>\n",
       "      <td>2013-01-01</td>\n",
       "      <td>19.94</td>\n",
       "    </tr>\n",
       "    <tr>\n",
       "      <th>1</th>\n",
       "      <td>2013-02-01</td>\n",
       "      <td>19.98</td>\n",
       "    </tr>\n",
       "    <tr>\n",
       "      <th>2</th>\n",
       "      <td>2013-03-01</td>\n",
       "      <td>19.73</td>\n",
       "    </tr>\n",
       "    <tr>\n",
       "      <th>3</th>\n",
       "      <td>2013-04-01</td>\n",
       "      <td>19.56</td>\n",
       "    </tr>\n",
       "    <tr>\n",
       "      <th>4</th>\n",
       "      <td>2013-05-01</td>\n",
       "      <td>19.29</td>\n",
       "    </tr>\n",
       "  </tbody>\n",
       "</table>\n",
       "</div>"
      ],
      "text/plain": [
       "        data  valor\n",
       "0 2013-01-01  19.94\n",
       "1 2013-02-01  19.98\n",
       "2 2013-03-01  19.73\n",
       "3 2013-04-01  19.56\n",
       "4 2013-05-01  19.29"
      ]
     },
     "execution_count": 246,
     "metadata": {},
     "output_type": "execute_result"
    }
   ],
   "source": [
    "df_cost.head()"
   ]
  },
  {
   "cell_type": "code",
   "execution_count": 247,
   "id": "38bd0547",
   "metadata": {},
   "outputs": [
    {
     "data": {
      "image/png": "[encoded data removed]",
      "text/plain": [
       "<Figure size 1008x288 with 1 Axes>"
      ]
     },
     "metadata": {},
     "output_type": "display_data"
    }
   ],
   "source": [
    "plt.plot(df_cost['data'], df_cost['valor'], color = 'red', label = 'Credit Cost')\n",
    "plt.title('Credit Cost rate')\n",
    "plt.xlabel('data')\n",
    "plt.ylabel('Credit cost rate')\n",
    "plt.legend()\n",
    "plt.show()"
   ]
  },
  {
   "cell_type": "code",
   "execution_count": 248,
   "id": "a7ef179d",
   "metadata": {},
   "outputs": [
    {
     "data": {
      "text/html": [
       "<div>\n",
       "<style scoped>\n",
       "    .dataframe tbody tr th:only-of-type {\n",
       "        vertical-align: middle;\n",
       "    }\n",
       "\n",
       "    .dataframe tbody tr th {\n",
       "        vertical-align: top;\n",
       "    }\n",
       "\n",
       "    .dataframe thead th {\n",
       "        text-align: right;\n",
       "    }\n",
       "</style>\n",
       "<table border=\"1\" class=\"dataframe\">\n",
       "  <thead>\n",
       "    <tr style=\"text-align: right;\">\n",
       "      <th></th>\n",
       "      <th>valor</th>\n",
       "    </tr>\n",
       "  </thead>\n",
       "  <tbody>\n",
       "    <tr>\n",
       "      <th>count</th>\n",
       "      <td>123.000000</td>\n",
       "    </tr>\n",
       "    <tr>\n",
       "      <th>mean</th>\n",
       "      <td>20.231951</td>\n",
       "    </tr>\n",
       "    <tr>\n",
       "      <th>std</th>\n",
       "      <td>1.612023</td>\n",
       "    </tr>\n",
       "    <tr>\n",
       "      <th>min</th>\n",
       "      <td>16.730000</td>\n",
       "    </tr>\n",
       "    <tr>\n",
       "      <th>25%</th>\n",
       "      <td>19.185000</td>\n",
       "    </tr>\n",
       "    <tr>\n",
       "      <th>50%</th>\n",
       "      <td>20.420000</td>\n",
       "    </tr>\n",
       "    <tr>\n",
       "      <th>75%</th>\n",
       "      <td>21.380000</td>\n",
       "    </tr>\n",
       "    <tr>\n",
       "      <th>max</th>\n",
       "      <td>22.980000</td>\n",
       "    </tr>\n",
       "  </tbody>\n",
       "</table>\n",
       "</div>"
      ],
      "text/plain": [
       "            valor\n",
       "count  123.000000\n",
       "mean    20.231951\n",
       "std      1.612023\n",
       "min     16.730000\n",
       "25%     19.185000\n",
       "50%     20.420000\n",
       "75%     21.380000\n",
       "max     22.980000"
      ]
     },
     "execution_count": 248,
     "metadata": {},
     "output_type": "execute_result"
    }
   ],
   "source": [
    "df_cost.describe()"
   ]
  },
  {
   "cell_type": "code",
   "execution_count": 249,
   "id": "b7ef3a6e",
   "metadata": {},
   "outputs": [],
   "source": [
    "df_cost = df_cost.rename(columns={'valor': 'Credit_Cost'})"
   ]
  },
  {
   "cell_type": "code",
   "execution_count": 250,
   "id": "b2058da3",
   "metadata": {},
   "outputs": [
    {
     "data": {
      "text/html": [
       "<div>\n",
       "<style scoped>\n",
       "    .dataframe tbody tr th:only-of-type {\n",
       "        vertical-align: middle;\n",
       "    }\n",
       "\n",
       "    .dataframe tbody tr th {\n",
       "        vertical-align: top;\n",
       "    }\n",
       "\n",
       "    .dataframe thead th {\n",
       "        text-align: right;\n",
       "    }\n",
       "</style>\n",
       "<table border=\"1\" class=\"dataframe\">\n",
       "  <thead>\n",
       "    <tr style=\"text-align: right;\">\n",
       "      <th></th>\n",
       "      <th>data</th>\n",
       "      <th>Credit_Cost</th>\n",
       "    </tr>\n",
       "  </thead>\n",
       "  <tbody>\n",
       "    <tr>\n",
       "      <th>0</th>\n",
       "      <td>2013-01-01</td>\n",
       "      <td>19.94</td>\n",
       "    </tr>\n",
       "    <tr>\n",
       "      <th>1</th>\n",
       "      <td>2013-02-01</td>\n",
       "      <td>19.98</td>\n",
       "    </tr>\n",
       "    <tr>\n",
       "      <th>2</th>\n",
       "      <td>2013-03-01</td>\n",
       "      <td>19.73</td>\n",
       "    </tr>\n",
       "    <tr>\n",
       "      <th>3</th>\n",
       "      <td>2013-04-01</td>\n",
       "      <td>19.56</td>\n",
       "    </tr>\n",
       "    <tr>\n",
       "      <th>4</th>\n",
       "      <td>2013-05-01</td>\n",
       "      <td>19.29</td>\n",
       "    </tr>\n",
       "  </tbody>\n",
       "</table>\n",
       "</div>"
      ],
      "text/plain": [
       "        data  Credit_Cost\n",
       "0 2013-01-01        19.94\n",
       "1 2013-02-01        19.98\n",
       "2 2013-03-01        19.73\n",
       "3 2013-04-01        19.56\n",
       "4 2013-05-01        19.29"
      ]
     },
     "execution_count": 250,
     "metadata": {},
     "output_type": "execute_result"
    }
   ],
   "source": [
    "df_cost.head()"
   ]
  },
  {
   "cell_type": "code",
   "execution_count": 251,
   "id": "3371dd48",
   "metadata": {},
   "outputs": [],
   "source": [
    "# filter the data from the dataset above\n",
    "start_date = datetime.datetime(2013, 1, 1)\n",
    "end_date = datetime.datetime(2023, 3, 1)\n",
    "df_cost = df_cost[(df_cost['data'] >= start_date) & (df_cost['data'] <= end_date)]"
   ]
  },
  {
   "cell_type": "code",
   "execution_count": 252,
   "id": "a9c43e5f",
   "metadata": {},
   "outputs": [
    {
     "data": {
      "text/html": [
       "<div>\n",
       "<style scoped>\n",
       "    .dataframe tbody tr th:only-of-type {\n",
       "        vertical-align: middle;\n",
       "    }\n",
       "\n",
       "    .dataframe tbody tr th {\n",
       "        vertical-align: top;\n",
       "    }\n",
       "\n",
       "    .dataframe thead th {\n",
       "        text-align: right;\n",
       "    }\n",
       "</style>\n",
       "<table border=\"1\" class=\"dataframe\">\n",
       "  <thead>\n",
       "    <tr style=\"text-align: right;\">\n",
       "      <th></th>\n",
       "      <th>data</th>\n",
       "      <th>Credit_Cost</th>\n",
       "    </tr>\n",
       "  </thead>\n",
       "  <tbody>\n",
       "    <tr>\n",
       "      <th>0</th>\n",
       "      <td>2013-01-01</td>\n",
       "      <td>19.94</td>\n",
       "    </tr>\n",
       "    <tr>\n",
       "      <th>1</th>\n",
       "      <td>2013-02-01</td>\n",
       "      <td>19.98</td>\n",
       "    </tr>\n",
       "    <tr>\n",
       "      <th>2</th>\n",
       "      <td>2013-03-01</td>\n",
       "      <td>19.73</td>\n",
       "    </tr>\n",
       "    <tr>\n",
       "      <th>3</th>\n",
       "      <td>2013-04-01</td>\n",
       "      <td>19.56</td>\n",
       "    </tr>\n",
       "    <tr>\n",
       "      <th>4</th>\n",
       "      <td>2013-05-01</td>\n",
       "      <td>19.29</td>\n",
       "    </tr>\n",
       "  </tbody>\n",
       "</table>\n",
       "</div>"
      ],
      "text/plain": [
       "        data  Credit_Cost\n",
       "0 2013-01-01        19.94\n",
       "1 2013-02-01        19.98\n",
       "2 2013-03-01        19.73\n",
       "3 2013-04-01        19.56\n",
       "4 2013-05-01        19.29"
      ]
     },
     "execution_count": 252,
     "metadata": {},
     "output_type": "execute_result"
    }
   ],
   "source": [
    "df_cost.head()"
   ]
  },
  {
   "cell_type": "code",
   "execution_count": 253,
   "id": "310e44f8",
   "metadata": {},
   "outputs": [
    {
     "data": {
      "text/plain": [
       "data           0\n",
       "Credit_Cost    0\n",
       "dtype: int64"
      ]
     },
     "execution_count": 253,
     "metadata": {},
     "output_type": "execute_result"
    }
   ],
   "source": [
    "# Finding missing values\n",
    "df_cost.isna().sum().sort_values(ascending=False)"
   ]
  },
  {
   "cell_type": "code",
   "execution_count": 254,
   "id": "11f14c72",
   "metadata": {},
   "outputs": [
    {
     "data": {
      "text/plain": [
       "<bound method DataFrame.info of           data  Credit_Cost\n",
       "0   2013-01-01        19.94\n",
       "1   2013-02-01        19.98\n",
       "2   2013-03-01        19.73\n",
       "3   2013-04-01        19.56\n",
       "4   2013-05-01        19.29\n",
       "..         ...          ...\n",
       "118 2022-11-01        21.61\n",
       "119 2022-12-01        21.52\n",
       "120 2023-01-01        22.01\n",
       "121 2023-02-01        22.29\n",
       "122 2023-03-01        22.29\n",
       "\n",
       "[123 rows x 2 columns]>"
      ]
     },
     "execution_count": 254,
     "metadata": {},
     "output_type": "execute_result"
    }
   ],
   "source": [
    "df_cost.info"
   ]
  },
  {
   "cell_type": "markdown",
   "id": "34ab9046",
   "metadata": {},
   "source": [
    "#### Download the monetary base"
   ]
  },
  {
   "cell_type": "code",
   "execution_count": 255,
   "id": "25ffea47",
   "metadata": {},
   "outputs": [],
   "source": [
    "url_4 = 'https://api.bcb.gov.br/dados/serie/bcdata.sgs.1783/dados?formato=json'\n",
    "\n",
    "df_M = pd.read_json(url_4)"
   ]
  },
  {
   "cell_type": "code",
   "execution_count": 256,
   "id": "01d95535",
   "metadata": {},
   "outputs": [
    {
     "data": {
      "text/html": [
       "<div>\n",
       "<style scoped>\n",
       "    .dataframe tbody tr th:only-of-type {\n",
       "        vertical-align: middle;\n",
       "    }\n",
       "\n",
       "    .dataframe tbody tr th {\n",
       "        vertical-align: top;\n",
       "    }\n",
       "\n",
       "    .dataframe thead th {\n",
       "        text-align: right;\n",
       "    }\n",
       "</style>\n",
       "<table border=\"1\" class=\"dataframe\">\n",
       "  <thead>\n",
       "    <tr style=\"text-align: right;\">\n",
       "      <th></th>\n",
       "      <th>data</th>\n",
       "      <th>valor</th>\n",
       "    </tr>\n",
       "  </thead>\n",
       "  <tbody>\n",
       "    <tr>\n",
       "      <th>0</th>\n",
       "      <td>01/01/1980</td>\n",
       "      <td>169000000</td>\n",
       "    </tr>\n",
       "    <tr>\n",
       "      <th>1</th>\n",
       "      <td>01/02/1980</td>\n",
       "      <td>174000000</td>\n",
       "    </tr>\n",
       "    <tr>\n",
       "      <th>2</th>\n",
       "      <td>01/03/1980</td>\n",
       "      <td>170000000</td>\n",
       "    </tr>\n",
       "    <tr>\n",
       "      <th>3</th>\n",
       "      <td>01/04/1980</td>\n",
       "      <td>177000000</td>\n",
       "    </tr>\n",
       "    <tr>\n",
       "      <th>4</th>\n",
       "      <td>01/05/1980</td>\n",
       "      <td>183000000</td>\n",
       "    </tr>\n",
       "  </tbody>\n",
       "</table>\n",
       "</div>"
      ],
      "text/plain": [
       "         data      valor\n",
       "0  01/01/1980  169000000\n",
       "1  01/02/1980  174000000\n",
       "2  01/03/1980  170000000\n",
       "3  01/04/1980  177000000\n",
       "4  01/05/1980  183000000"
      ]
     },
     "execution_count": 256,
     "metadata": {},
     "output_type": "execute_result"
    }
   ],
   "source": [
    "df_M.head()"
   ]
  },
  {
   "cell_type": "code",
   "execution_count": 257,
   "id": "6b1b1ca4",
   "metadata": {},
   "outputs": [],
   "source": [
    "df_M['data'] = pd.to_datetime(df_M['data'], format='%d/%m/%Y')"
   ]
  },
  {
   "cell_type": "code",
   "execution_count": 258,
   "id": "72e3f726",
   "metadata": {},
   "outputs": [
    {
     "data": {
      "text/html": [
       "<div>\n",
       "<style scoped>\n",
       "    .dataframe tbody tr th:only-of-type {\n",
       "        vertical-align: middle;\n",
       "    }\n",
       "\n",
       "    .dataframe tbody tr th {\n",
       "        vertical-align: top;\n",
       "    }\n",
       "\n",
       "    .dataframe thead th {\n",
       "        text-align: right;\n",
       "    }\n",
       "</style>\n",
       "<table border=\"1\" class=\"dataframe\">\n",
       "  <thead>\n",
       "    <tr style=\"text-align: right;\">\n",
       "      <th></th>\n",
       "      <th>data</th>\n",
       "      <th>valor</th>\n",
       "    </tr>\n",
       "  </thead>\n",
       "  <tbody>\n",
       "    <tr>\n",
       "      <th>0</th>\n",
       "      <td>1980-01-01</td>\n",
       "      <td>169000000</td>\n",
       "    </tr>\n",
       "    <tr>\n",
       "      <th>1</th>\n",
       "      <td>1980-02-01</td>\n",
       "      <td>174000000</td>\n",
       "    </tr>\n",
       "    <tr>\n",
       "      <th>2</th>\n",
       "      <td>1980-03-01</td>\n",
       "      <td>170000000</td>\n",
       "    </tr>\n",
       "    <tr>\n",
       "      <th>3</th>\n",
       "      <td>1980-04-01</td>\n",
       "      <td>177000000</td>\n",
       "    </tr>\n",
       "    <tr>\n",
       "      <th>4</th>\n",
       "      <td>1980-05-01</td>\n",
       "      <td>183000000</td>\n",
       "    </tr>\n",
       "  </tbody>\n",
       "</table>\n",
       "</div>"
      ],
      "text/plain": [
       "        data      valor\n",
       "0 1980-01-01  169000000\n",
       "1 1980-02-01  174000000\n",
       "2 1980-03-01  170000000\n",
       "3 1980-04-01  177000000\n",
       "4 1980-05-01  183000000"
      ]
     },
     "execution_count": 258,
     "metadata": {},
     "output_type": "execute_result"
    }
   ],
   "source": [
    "df_M.head()"
   ]
  },
  {
   "cell_type": "code",
   "execution_count": 259,
   "id": "593ed6b2",
   "metadata": {},
   "outputs": [
    {
     "name": "stdout",
     "output_type": "stream",
     "text": [
      "<class 'pandas.core.frame.DataFrame'>\n",
      "RangeIndex: 519 entries, 0 to 518\n",
      "Data columns (total 2 columns):\n",
      " #   Column  Non-Null Count  Dtype         \n",
      "---  ------  --------------  -----         \n",
      " 0   data    519 non-null    datetime64[ns]\n",
      " 1   valor   519 non-null    int64         \n",
      "dtypes: datetime64[ns](1), int64(1)\n",
      "memory usage: 8.2 KB\n"
     ]
    }
   ],
   "source": [
    "df_M.info()"
   ]
  },
  {
   "cell_type": "code",
   "execution_count": 260,
   "id": "3ecb1aae",
   "metadata": {},
   "outputs": [
    {
     "data": {
      "image/png": "[encoded data removed]",
      "text/plain": [
       "<Figure size 1008x288 with 1 Axes>"
      ]
     },
     "metadata": {},
     "output_type": "display_data"
    }
   ],
   "source": [
    "plt.plot(df_M['data'], df_M['valor'], color = 'red', label = 'Monetary Base')\n",
    "plt.title('Monetary Base')\n",
    "plt.xlabel('data')\n",
    "plt.ylabel('Monetary Base rate')\n",
    "plt.legend()\n",
    "plt.show()"
   ]
  },
  {
   "cell_type": "code",
   "execution_count": 261,
   "id": "dddfc9e7",
   "metadata": {},
   "outputs": [],
   "source": [
    "df_M = df_M.rename(columns={'valor': 'Monetary_Base'})"
   ]
  },
  {
   "cell_type": "code",
   "execution_count": 262,
   "id": "0bee01b0",
   "metadata": {},
   "outputs": [
    {
     "data": {
      "text/html": [
       "<div>\n",
       "<style scoped>\n",
       "    .dataframe tbody tr th:only-of-type {\n",
       "        vertical-align: middle;\n",
       "    }\n",
       "\n",
       "    .dataframe tbody tr th {\n",
       "        vertical-align: top;\n",
       "    }\n",
       "\n",
       "    .dataframe thead th {\n",
       "        text-align: right;\n",
       "    }\n",
       "</style>\n",
       "<table border=\"1\" class=\"dataframe\">\n",
       "  <thead>\n",
       "    <tr style=\"text-align: right;\">\n",
       "      <th></th>\n",
       "      <th>data</th>\n",
       "      <th>Monetary_Base</th>\n",
       "    </tr>\n",
       "  </thead>\n",
       "  <tbody>\n",
       "    <tr>\n",
       "      <th>0</th>\n",
       "      <td>1980-01-01</td>\n",
       "      <td>169000000</td>\n",
       "    </tr>\n",
       "    <tr>\n",
       "      <th>1</th>\n",
       "      <td>1980-02-01</td>\n",
       "      <td>174000000</td>\n",
       "    </tr>\n",
       "    <tr>\n",
       "      <th>2</th>\n",
       "      <td>1980-03-01</td>\n",
       "      <td>170000000</td>\n",
       "    </tr>\n",
       "    <tr>\n",
       "      <th>3</th>\n",
       "      <td>1980-04-01</td>\n",
       "      <td>177000000</td>\n",
       "    </tr>\n",
       "    <tr>\n",
       "      <th>4</th>\n",
       "      <td>1980-05-01</td>\n",
       "      <td>183000000</td>\n",
       "    </tr>\n",
       "  </tbody>\n",
       "</table>\n",
       "</div>"
      ],
      "text/plain": [
       "        data  Monetary_Base\n",
       "0 1980-01-01      169000000\n",
       "1 1980-02-01      174000000\n",
       "2 1980-03-01      170000000\n",
       "3 1980-04-01      177000000\n",
       "4 1980-05-01      183000000"
      ]
     },
     "execution_count": 262,
     "metadata": {},
     "output_type": "execute_result"
    }
   ],
   "source": [
    "df_M.head()"
   ]
  },
  {
   "cell_type": "code",
   "execution_count": 263,
   "id": "e34123df",
   "metadata": {},
   "outputs": [],
   "source": [
    "# filter the data from the dataset above\n",
    "start_date = datetime.datetime(2013, 1, 1)\n",
    "end_date = datetime.datetime(2023, 3, 1)\n",
    "df_M = df_M[(df_M['data'] >= start_date) & (df_M['data'] <= end_date)]"
   ]
  },
  {
   "cell_type": "code",
   "execution_count": 264,
   "id": "d9ee5d60",
   "metadata": {},
   "outputs": [
    {
     "data": {
      "text/html": [
       "<div>\n",
       "<style scoped>\n",
       "    .dataframe tbody tr th:only-of-type {\n",
       "        vertical-align: middle;\n",
       "    }\n",
       "\n",
       "    .dataframe tbody tr th {\n",
       "        vertical-align: top;\n",
       "    }\n",
       "\n",
       "    .dataframe thead th {\n",
       "        text-align: right;\n",
       "    }\n",
       "</style>\n",
       "<table border=\"1\" class=\"dataframe\">\n",
       "  <thead>\n",
       "    <tr style=\"text-align: right;\">\n",
       "      <th></th>\n",
       "      <th>data</th>\n",
       "      <th>Monetary_Base</th>\n",
       "    </tr>\n",
       "  </thead>\n",
       "  <tbody>\n",
       "    <tr>\n",
       "      <th>396</th>\n",
       "      <td>2013-01-01</td>\n",
       "      <td>172616875</td>\n",
       "    </tr>\n",
       "    <tr>\n",
       "      <th>397</th>\n",
       "      <td>2013-02-01</td>\n",
       "      <td>169063886</td>\n",
       "    </tr>\n",
       "    <tr>\n",
       "      <th>398</th>\n",
       "      <td>2013-03-01</td>\n",
       "      <td>166095210</td>\n",
       "    </tr>\n",
       "    <tr>\n",
       "      <th>399</th>\n",
       "      <td>2013-04-01</td>\n",
       "      <td>164464143</td>\n",
       "    </tr>\n",
       "    <tr>\n",
       "      <th>400</th>\n",
       "      <td>2013-05-01</td>\n",
       "      <td>165309792</td>\n",
       "    </tr>\n",
       "  </tbody>\n",
       "</table>\n",
       "</div>"
      ],
      "text/plain": [
       "          data  Monetary_Base\n",
       "396 2013-01-01      172616875\n",
       "397 2013-02-01      169063886\n",
       "398 2013-03-01      166095210\n",
       "399 2013-04-01      164464143\n",
       "400 2013-05-01      165309792"
      ]
     },
     "execution_count": 264,
     "metadata": {},
     "output_type": "execute_result"
    }
   ],
   "source": [
    "df_M.head()"
   ]
  },
  {
   "cell_type": "code",
   "execution_count": 265,
   "id": "fa0a2c14",
   "metadata": {},
   "outputs": [
    {
     "data": {
      "text/plain": [
       "data             0\n",
       "Monetary_Base    0\n",
       "dtype: int64"
      ]
     },
     "execution_count": 265,
     "metadata": {},
     "output_type": "execute_result"
    }
   ],
   "source": [
    "# Finding missing values\n",
    "df_M.isna().sum().sort_values(ascending=False)"
   ]
  },
  {
   "cell_type": "code",
   "execution_count": 266,
   "id": "473dd9b6",
   "metadata": {},
   "outputs": [
    {
     "data": {
      "text/plain": [
       "<bound method DataFrame.info of           data  Monetary_Base\n",
       "396 2013-01-01      172616875\n",
       "397 2013-02-01      169063886\n",
       "398 2013-03-01      166095210\n",
       "399 2013-04-01      164464143\n",
       "400 2013-05-01      165309792\n",
       "..         ...            ...\n",
       "514 2022-11-01      326483189\n",
       "515 2022-12-01      336697453\n",
       "516 2023-01-01      342030075\n",
       "517 2023-02-01      339383004\n",
       "518 2023-03-01      334839285\n",
       "\n",
       "[123 rows x 2 columns]>"
      ]
     },
     "execution_count": 266,
     "metadata": {},
     "output_type": "execute_result"
    }
   ],
   "source": [
    "df_M.info"
   ]
  },
  {
   "cell_type": "markdown",
   "id": "c35680ef",
   "metadata": {},
   "source": [
    "### Merge the tables to only one"
   ]
  },
  {
   "cell_type": "code",
   "execution_count": 267,
   "id": "680bf8ca",
   "metadata": {},
   "outputs": [
    {
     "name": "stdout",
     "output_type": "stream",
     "text": [
      "        data  IGPM  Credit_Spread  Default  Credit_Cost  Monetary_Base\n",
      "0 2013-01-01  0.34          14.47     3.54        19.94      172616875\n",
      "1 2013-02-01  0.29          14.59     3.51        19.98      169063886\n",
      "2 2013-03-01  0.21          14.21     3.45        19.73      166095210\n",
      "3 2013-04-01  0.15          14.11     3.47        19.56      164464143\n",
      "4 2013-05-01  0.00          13.78     3.47        19.29      165309792\n"
     ]
    }
   ],
   "source": [
    "# merge the dataframes based on the 'data' column\n",
    "df_merged = pd.merge(df, df_Spread, on='data')\n",
    "df_merged = pd.merge(df_merged, df_def, on='data')\n",
    "df_merged = pd.merge(df_merged, df_cost, on='data')\n",
    "df_merged = pd.merge(df_merged, df_M, on='data')\n",
    "\n",
    "# print the resulting dataframe\n",
    "print(df_merged.head())\n"
   ]
  },
  {
   "cell_type": "code",
   "execution_count": 268,
   "id": "71fef39f",
   "metadata": {},
   "outputs": [
    {
     "data": {
      "text/html": [
       "<div>\n",
       "<style scoped>\n",
       "    .dataframe tbody tr th:only-of-type {\n",
       "        vertical-align: middle;\n",
       "    }\n",
       "\n",
       "    .dataframe tbody tr th {\n",
       "        vertical-align: top;\n",
       "    }\n",
       "\n",
       "    .dataframe thead th {\n",
       "        text-align: right;\n",
       "    }\n",
       "</style>\n",
       "<table border=\"1\" class=\"dataframe\">\n",
       "  <thead>\n",
       "    <tr style=\"text-align: right;\">\n",
       "      <th></th>\n",
       "      <th>data</th>\n",
       "      <th>IGPM</th>\n",
       "      <th>Credit_Spread</th>\n",
       "      <th>Default</th>\n",
       "      <th>Credit_Cost</th>\n",
       "      <th>Monetary_Base</th>\n",
       "    </tr>\n",
       "  </thead>\n",
       "  <tbody>\n",
       "    <tr>\n",
       "      <th>0</th>\n",
       "      <td>2013-01-01</td>\n",
       "      <td>0.34</td>\n",
       "      <td>14.47</td>\n",
       "      <td>3.54</td>\n",
       "      <td>19.94</td>\n",
       "      <td>172616875</td>\n",
       "    </tr>\n",
       "    <tr>\n",
       "      <th>1</th>\n",
       "      <td>2013-02-01</td>\n",
       "      <td>0.29</td>\n",
       "      <td>14.59</td>\n",
       "      <td>3.51</td>\n",
       "      <td>19.98</td>\n",
       "      <td>169063886</td>\n",
       "    </tr>\n",
       "    <tr>\n",
       "      <th>2</th>\n",
       "      <td>2013-03-01</td>\n",
       "      <td>0.21</td>\n",
       "      <td>14.21</td>\n",
       "      <td>3.45</td>\n",
       "      <td>19.73</td>\n",
       "      <td>166095210</td>\n",
       "    </tr>\n",
       "    <tr>\n",
       "      <th>3</th>\n",
       "      <td>2013-04-01</td>\n",
       "      <td>0.15</td>\n",
       "      <td>14.11</td>\n",
       "      <td>3.47</td>\n",
       "      <td>19.56</td>\n",
       "      <td>164464143</td>\n",
       "    </tr>\n",
       "    <tr>\n",
       "      <th>4</th>\n",
       "      <td>2013-05-01</td>\n",
       "      <td>0.00</td>\n",
       "      <td>13.78</td>\n",
       "      <td>3.47</td>\n",
       "      <td>19.29</td>\n",
       "      <td>165309792</td>\n",
       "    </tr>\n",
       "  </tbody>\n",
       "</table>\n",
       "</div>"
      ],
      "text/plain": [
       "        data  IGPM  Credit_Spread  Default  Credit_Cost  Monetary_Base\n",
       "0 2013-01-01  0.34          14.47     3.54        19.94      172616875\n",
       "1 2013-02-01  0.29          14.59     3.51        19.98      169063886\n",
       "2 2013-03-01  0.21          14.21     3.45        19.73      166095210\n",
       "3 2013-04-01  0.15          14.11     3.47        19.56      164464143\n",
       "4 2013-05-01  0.00          13.78     3.47        19.29      165309792"
      ]
     },
     "execution_count": 268,
     "metadata": {},
     "output_type": "execute_result"
    }
   ],
   "source": [
    "df_merged.head()"
   ]
  },
  {
   "cell_type": "code",
   "execution_count": 273,
   "id": "7195edc3",
   "metadata": {},
   "outputs": [
    {
     "data": {
      "image/png": "[encoded data removed]",
      "text/plain": [
       "<Figure size 1008x288 with 1 Axes>"
      ]
     },
     "metadata": {},
     "output_type": "display_data"
    }
   ],
   "source": [
    "plt.plot(df_merged['data'], df_merged['Credit_Spread'], color='red', label='Credit Spread')\n",
    "plt.plot(df_merged['data'], df_merged['Credit_Cost'], color='blue', label='Credit Cost')\n",
    "\n",
    "plt.title('Credit Spread x Credit Cost')\n",
    "plt.xlabel('data')\n",
    "plt.ylabel('Values')\n",
    "\n",
    "plt.legend()\n",
    "plt.show()"
   ]
  },
  {
   "cell_type": "markdown",
   "id": "e5bf5de6",
   "metadata": {},
   "source": [
    "### Let's start the analysis with Pearson Correlation"
   ]
  },
  {
   "cell_type": "code",
   "execution_count": 274,
   "id": "fdae4e7d",
   "metadata": {},
   "outputs": [],
   "source": [
    "import scipy.stats as stats"
   ]
  },
  {
   "cell_type": "code",
   "execution_count": 275,
   "id": "ce3e9b63",
   "metadata": {},
   "outputs": [
    {
     "name": "stdout",
     "output_type": "stream",
     "text": [
      "                   IGPM  Credit_Spread   Default  Credit_Cost  Monetary_Base\n",
      "IGPM           1.000000      -0.315756 -0.456966    -0.490646       0.362058\n",
      "Credit_Spread -0.315756       1.000000  0.665894     0.890259      -0.078576\n",
      "Default       -0.456966       0.665894  1.000000     0.846425      -0.652764\n",
      "Credit_Cost   -0.490646       0.890259  0.846425     1.000000      -0.415422\n",
      "Monetary_Base  0.362058      -0.078576 -0.652764    -0.415422       1.000000\n"
     ]
    }
   ],
   "source": [
    "# calculate the correlation matrix\n",
    "corr_matrix = df_merged.corr()\n",
    "\n",
    "# print the correlation matrix\n",
    "print(corr_matrix)"
   ]
  },
  {
   "cell_type": "code",
   "execution_count": 276,
   "id": "ed1dddd6",
   "metadata": {},
   "outputs": [
    {
     "data": {
      "image/png": "[encoded data removed]",
      "text/plain": [
       "<Figure size 1008x288 with 2 Axes>"
      ]
     },
     "metadata": {},
     "output_type": "display_data"
    }
   ],
   "source": [
    "# Create a heatmap of the correlation matrix\n",
    "sns.heatmap(corr_matrix, annot=True, cmap='coolwarm')\n",
    "\n",
    "# Add a title and show the plot\n",
    "plt.title('Correlation Matrix')\n",
    "plt.show()"
   ]
  },
  {
   "cell_type": "code",
   "execution_count": 280,
   "id": "3d298fa3",
   "metadata": {},
   "outputs": [
    {
     "data": {
      "image/png": "[encoded data removed]",
      "text/plain": [
       "<Figure size 864x432 with 5 Axes>"
      ]
     },
     "metadata": {},
     "output_type": "display_data"
    }
   ],
   "source": [
    "# Let's now search for outliers in the dataset \n",
    "# Create a list for all columns\n",
    "int_cols = ['IGPM', 'Credit_Spread', 'Default', 'Credit_Cost', 'Monetary_Base']\n",
    "\n",
    "# Define a functon to plot a graph\n",
    "def data_outliers(x, fig):\n",
    "    # subplot is used to plot multiple graph\n",
    "    plt.subplot(2, 3, fig)\n",
    "    # title of the graph\n",
    "    plt.title('Outliers of ' + x)\n",
    "    # plot the graph\n",
    "    sns.boxplot(x=df_merged[x], palette=(\"Wistia\"))\n",
    "    plt.xticks(rotation=90)\n",
    "\n",
    "plt.figure(figsize=(12, 6))\n",
    "# call the function for each column except the last one\n",
    "for e, i in enumerate(int_cols[:-1]):\n",
    "    data_outliers(i, e+1)\n",
    "\n",
    "# plot the last column separately\n",
    "plt.subplot(2, 3, 6)\n",
    "plt.title('Outliers of ' + int_cols[-1])\n",
    "sns.boxplot(x=df_merged[int_cols[-1]], palette=(\"Wistia\"))\n",
    "plt.xticks(rotation=90)\n",
    "\n",
    "plt.tight_layout()\n",
    "plt.show()"
   ]
  },
  {
   "cell_type": "markdown",
   "id": "d68ec656",
   "metadata": {},
   "source": [
    "### Linear Regression to predict the credit cost"
   ]
  },
  {
   "cell_type": "code",
   "execution_count": 281,
   "id": "7f02cfcf",
   "metadata": {},
   "outputs": [],
   "source": [
    "# Linear regression\n",
    "from sklearn.model_selection import train_test_split\n",
    "from sklearn.linear_model import LinearRegression \n",
    "from sklearn.metrics import r2_score"
   ]
  },
  {
   "cell_type": "code",
   "execution_count": 282,
   "id": "d52536f3",
   "metadata": {},
   "outputs": [
    {
     "data": {
      "text/plain": [
       "Index(['data', 'IGPM', 'Credit_Spread', 'Default', 'Credit_Cost',\n",
       "       'Monetary_Base'],\n",
       "      dtype='object')"
      ]
     },
     "execution_count": 282,
     "metadata": {},
     "output_type": "execute_result"
    }
   ],
   "source": [
    "df_merged.columns"
   ]
  },
  {
   "cell_type": "code",
   "execution_count": 284,
   "id": "dffd13ee",
   "metadata": {},
   "outputs": [
    {
     "data": {
      "text/plain": [
       "array([[3.40000000e-01, 1.44700000e+01, 3.54000000e+00, 1.72616875e+08],\n",
       "       [2.90000000e-01, 1.45900000e+01, 3.51000000e+00, 1.69063886e+08],\n",
       "       [2.10000000e-01, 1.42100000e+01, 3.45000000e+00, 1.66095210e+08],\n",
       "       [1.50000000e-01, 1.41100000e+01, 3.47000000e+00, 1.64464143e+08],\n",
       "       [0.00000000e+00, 1.37800000e+01, 3.47000000e+00, 1.65309792e+08]])"
      ]
     },
     "execution_count": 284,
     "metadata": {},
     "output_type": "execute_result"
    }
   ],
   "source": [
    "X = np.asarray(df_merged[['IGPM', 'Credit_Spread', 'Default', 'Monetary_Base']])\n",
    "X[0:5]"
   ]
  },
  {
   "cell_type": "code",
   "execution_count": 285,
   "id": "9bdc1192",
   "metadata": {},
   "outputs": [
    {
     "data": {
      "text/plain": [
       "array([19.94, 19.98, 19.73, 19.56, 19.29])"
      ]
     },
     "execution_count": 285,
     "metadata": {},
     "output_type": "execute_result"
    }
   ],
   "source": [
    "y = np.asarray(df_merged['Credit_Cost'])\n",
    "y[0:5]"
   ]
  },
  {
   "cell_type": "code",
   "execution_count": 286,
   "id": "0d3fe971",
   "metadata": {},
   "outputs": [],
   "source": [
    "# train_test_split(x, y, random_state=1) # 20% test data\n",
    "x_train,x_test,y_train,y_test = train_test_split(X, y, test_size=0.2,random_state=0)"
   ]
  },
  {
   "cell_type": "code",
   "execution_count": 287,
   "id": "9e5c438c",
   "metadata": {},
   "outputs": [
    {
     "name": "stdout",
     "output_type": "stream",
     "text": [
      "x_train: (98, 4)\n",
      "x_test: (25, 4)\n",
      "y_train: (98,)\n",
      "y_test: (25,)\n",
      "98 98\n"
     ]
    }
   ],
   "source": [
    "print(\"x_train:\",x_train.shape)\n",
    "print(\"x_test:\",x_test.shape)\n",
    "print(\"y_train:\",y_train.shape)\n",
    "print(\"y_test:\",y_test.shape)\n",
    "print(len(x_train),len(y_train))"
   ]
  },
  {
   "cell_type": "code",
   "execution_count": 288,
   "id": "7f3b17bd",
   "metadata": {},
   "outputs": [
    {
     "data": {
      "text/plain": [
       "LinearRegression()"
      ]
     },
     "execution_count": 288,
     "metadata": {},
     "output_type": "execute_result"
    }
   ],
   "source": [
    "linReg=LinearRegression()\n",
    "linReg.fit(x_train,y_train)"
   ]
  },
  {
   "cell_type": "code",
   "execution_count": 289,
   "id": "8bc10a56",
   "metadata": {},
   "outputs": [
    {
     "name": "stdout",
     "output_type": "stream",
     "text": [
      "linRegBeta = [-1.22135319e-01  4.08512244e-01  7.18807283e-01 -5.01181819e-09]\n",
      "\n",
      "linRegIntercept =  12.123249160590802\n"
     ]
    }
   ],
   "source": [
    "# linReg.fit(x_train, y_train)\n",
    "\n",
    "model =linReg.fit(x_train,y_train)\n",
    "print('linRegBeta =',linReg.coef_)\n",
    "print()\n",
    "print(\"linRegIntercept = \",linReg.intercept_)"
   ]
  },
  {
   "cell_type": "code",
   "execution_count": 290,
   "id": "06e04e7e",
   "metadata": {},
   "outputs": [
    {
     "name": "stdout",
     "output_type": "stream",
     "text": [
      "MSE= 0.16904834305641778\n",
      "\n",
      "0.16904834305641778 0.4111548893743303\n"
     ]
    }
   ],
   "source": [
    "# linreg.predict(x_test)\n",
    "\n",
    "y_hat =linReg.predict(np.array(x_test))\n",
    "mse = np.average((y_hat - np.array(y_test))**2) # Mean Squared Error\n",
    "rmse = np.sqrt(mse)  # Root Mean Squared Error \n",
    "print('MSE=',mse)\n",
    "print()\n",
    "print(mse,rmse)"
   ]
  },
  {
   "cell_type": "code",
   "execution_count": 291,
   "id": "5bc527c9",
   "metadata": {},
   "outputs": [
    {
     "name": "stdout",
     "output_type": "stream",
     "text": [
      "MAE: 0.3262000468839201\n"
     ]
    }
   ],
   "source": [
    "from sklearn.metrics import mean_absolute_error, mean_squared_error\n",
    "print(f'MAE: {mean_absolute_error(y_test, y_hat)}')"
   ]
  },
  {
   "cell_type": "code",
   "execution_count": 292,
   "id": "6227db4e",
   "metadata": {},
   "outputs": [
    {
     "data": {
      "text/plain": [
       "0.9289534645602007"
      ]
     },
     "execution_count": 292,
     "metadata": {},
     "output_type": "execute_result"
    }
   ],
   "source": [
    "linReg.score(x_train,y_train)"
   ]
  },
  {
   "cell_type": "code",
   "execution_count": 293,
   "id": "b8120c03",
   "metadata": {},
   "outputs": [
    {
     "data": {
      "image/png": "[encoded data removed]",
      "text/plain": [
       "<Figure size 1008x288 with 1 Axes>"
      ]
     },
     "metadata": {},
     "output_type": "display_data"
    }
   ],
   "source": [
    "t= np.arange(len(x_test))\n",
    "plt.plot(t,y_test,'r-',linewidth = 2,label = 'Test')\n",
    "plt.plot(t,y_hat,'g-',linewidth = 2,label = 'predict')\n",
    "plt.title(\"Test vs Prediction\",fontsize = 16)\n",
    "plt.legend(loc = 'upper right')\n",
    "plt.grid()\n",
    "plt.show()"
   ]
  },
  {
   "cell_type": "code",
   "execution_count": 295,
   "id": "16b4b1f4",
   "metadata": {},
   "outputs": [],
   "source": [
    "import statsmodels.api as sm"
   ]
  },
  {
   "cell_type": "code",
   "execution_count": 299,
   "id": "5b5e5149",
   "metadata": {},
   "outputs": [
    {
     "name": "stdout",
     "output_type": "stream",
     "text": [
      "                                 OLS Regression Results                                \n",
      "=======================================================================================\n",
      "Dep. Variable:                      y   R-squared (uncentered):                   0.998\n",
      "Model:                            OLS   Adj. R-squared (uncentered):              0.998\n",
      "Method:                 Least Squares   F-statistic:                          1.189e+04\n",
      "Date:                Wed, 03 May 2023   Prob (F-statistic):                   3.50e-126\n",
      "Time:                        18:50:16   Log-Likelihood:                         -129.48\n",
      "No. Observations:                  98   AIC:                                      267.0\n",
      "Df Residuals:                      94   BIC:                                      277.3\n",
      "Df Model:                           4                                                  \n",
      "Covariance Type:            nonrobust                                                  \n",
      "==============================================================================\n",
      "                 coef    std err          t      P>|t|      [0.025      0.975]\n",
      "------------------------------------------------------------------------------\n",
      "x1             0.0826      0.112      0.739      0.461      -0.139       0.304\n",
      "x2             0.2012      0.054      3.733      0.000       0.094       0.308\n",
      "x3             4.2497      0.265     16.027      0.000       3.723       4.776\n",
      "x4          1.454e-08   1.46e-09      9.965      0.000    1.16e-08    1.74e-08\n",
      "==============================================================================\n",
      "Omnibus:                        3.330   Durbin-Watson:                   1.850\n",
      "Prob(Omnibus):                  0.189   Jarque-Bera (JB):                2.976\n",
      "Skew:                          -0.339   Prob(JB):                        0.226\n",
      "Kurtosis:                       2.481   Cond. No.                     7.30e+08\n",
      "==============================================================================\n",
      "\n",
      "Notes:\n",
      "[1] R² is computed without centering (uncentered) since the model does not contain a constant.\n",
      "[2] Standard Errors assume that the covariance matrix of the errors is correctly specified.\n",
      "[3] The condition number is large, 7.3e+08. This might indicate that there are\n",
      "strong multicollinearity or other numerical problems.\n"
     ]
    }
   ],
   "source": [
    "# Fit the ordinary least squares (OLS) model and print the summary\n",
    "model = sm.OLS(y_train, x_train).fit()\n",
    "print(model.summary())"
   ]
  },
  {
   "cell_type": "markdown",
   "id": "9dee14ae",
   "metadata": {},
   "source": [
    "Although more research is needed to model has predicted Credit Cost with a decent degree of accuracy. It is important to observe that there is a possible multicolinearity problem, which requires further investigation.  "
   ]
  }
 ],
 "metadata": {
  "kernelspec": {
   "display_name": "Python 3 (ipykernel)",
   "language": "python",
   "name": "python3"
  },
  "language_info": {
   "codemirror_mode": {
    "name": "ipython",
    "version": 3
   },
   "file_extension": ".py",
   "mimetype": "text/x-python",
   "name": "python",
   "nbconvert_exporter": "python",
   "pygments_lexer": "ipython3",
   "version": "3.9.12"
  }
 },
 "nbformat": 4,
 "nbformat_minor": 5
}
